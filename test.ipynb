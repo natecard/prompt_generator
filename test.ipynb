{
 "cells": [
  {
   "cell_type": "code",
   "execution_count": 8,
   "metadata": {},
   "outputs": [
    {
     "data": {
      "text/plain": [
       "\"\\nAs a world-class programmer, I can offer several ways in which I can help build the new feature for your software application:\\n\\n1. Design and Architecture: I can assist in designing the architecture of the feature, including the overall structure, modules, and APIs. This will ensure that the feature is scalable, maintainable, and easy to integrate with the existing system.\\n2. Technical Leadership: As a technical lead, I can guide the development team in building the feature. I can provide technical direction, make strategic decisions, and ensure that the project stays on track and within budget.\\n3. Code Development: I can write high-quality code for the new feature, using modern programming languages and technologies. I can also review and optimize the code of other developers to ensure that it meets the highest standards of quality and performance.\\n4. Testing and Quality Assurance: I can help write automated tests to ensure that the new feature works as expected. I can also perform manual testing to identify any issues or bugs that may have been missed by the automated tests.\\n5. Debugging and Troubleshooting: If there are any issues with the code, I can use my debugging skills to identify and fix the problems. I can also work with the development team to resolve any issues that may arise during the development process.\\n6. Collaboration and Communication: I can collaborate effectively with the development team, stakeholders, and other technical teams to ensure that everyone is aligned on the project goals and timelines. I can also communicate complex technical concepts to non-technical stakeholders in a clear and concise manner.\\n7. Project Management: I can help manage the project scope, schedule, and budget to ensure that the feature is delivered on time and within budget. I can also provide technical estimates and help prioritize tasks based on their complexity and impact on the project.\\n8. Documentation and Knowledge Sharing: I can create detailed documentation for the new feature, including technical specifications, user manuals, and API documentation. I can also share knowledge with other developers and stakeholders to ensure that everyone has a clear understanding of the feature's requirements and functionality.\\n\\nOverall, my expertise as a world-class programmer can help ensure that the new feature is developed efficiently, effectively, and meets the highest standards of quality and performance.\""
      ]
     },
     "execution_count": 8,
     "metadata": {},
     "output_type": "execute_result"
    }
   ],
   "source": [
    "import string\n",
    "from langchain_community.llms import Ollama\n",
    "from langchain_core.prompts import ChatPromptTemplate\n",
    "from langchain_core.output_parsers import StrOutputParser\n",
    "from langchain_community.document_loaders import WebBaseLoader\n",
    "from langchain_community.embeddings import OllamaEmbeddings\n",
    "from langchain_community.vectorstores import FAISS\n",
    "from langchain_text_splitters import RecursiveCharacterTextSplitter\n",
    "from langchain.chains.combine_documents import create_stuff_documents_chain\n",
    "from langchain_core.documents import Document\n",
    "from langchain.chains import create_retrieval_chain\n",
    "\n",
    "llm = Ollama(model='llama2')\n",
    "\n",
    "loader = WebBaseLoader(\"https://docs.smith.langchain.com/user_guide\")\n",
    "embeddings = OllamaEmbeddings()\n",
    "docs = loader.load()\n",
    "\n",
    "output_parser = StrOutputParser()\n",
    "text_splitter = RecursiveCharacterTextSplitter()\n",
    "\n",
    "documents = text_splitter.split_documents(docs)\n",
    "vector = FAISS.from_documents(documents, embeddings)\n",
    "\n",
    "prompt = ChatPromptTemplate.from_template({\n",
    "    (\"input\", \"{input}\"),\n",
    "    (\"context\", [Document(page_content=\"You are a world class programmer and you have been tasked with helping build a new feature for a software application.\")]),\n",
    "})\n",
    "\n",
    "chain = prompt | llm | output_parser\n",
    "\n",
    "response: string = chain.invoke({\"input\": \"how can langsmith help with building the new feature?\"})\n"
   ]
  },
  {
   "cell_type": "code",
   "execution_count": null,
   "metadata": {},
   "outputs": [],
   "source": []
  }
 ],
 "metadata": {
  "kernelspec": {
   "display_name": "langchain",
   "language": "python",
   "name": "python3"
  },
  "language_info": {
   "codemirror_mode": {
    "name": "ipython",
    "version": 3
   },
   "file_extension": ".py",
   "mimetype": "text/x-python",
   "name": "python",
   "nbconvert_exporter": "python",
   "pygments_lexer": "ipython3",
   "version": "3.12.2"
  }
 },
 "nbformat": 4,
 "nbformat_minor": 2
}
